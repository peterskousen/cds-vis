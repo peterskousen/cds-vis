{
 "cells": [
  {
   "cell_type": "code",
   "execution_count": 1,
   "metadata": {
    "metadata": {}
   },
   "outputs": [
    {
     "name": "stderr",
     "output_type": "stream",
     "text": [
      "/work/VisualAnalytics/cds-vis/assignments/a4/.venv/lib/python3.10/site-packages/tqdm/auto.py:21: TqdmWarning: IProgress not found. Please update jupyter and ipywidgets. See https://ipywidgets.readthedocs.io/en/stable/user_install.html\n",
      "  from .autonotebook import tqdm as notebook_tqdm\n",
      "100%|██████████| 111M/111M [00:00<00:00, 219MB/s]  \n"
     ]
    }
   ],
   "source": [
    "import os\n",
    "import torch\n",
    "import copy\n",
    "import pandas as pd\n",
    "import matplotlib.pyplot as plt\n",
    "from PIL import Image\n",
    "from tqdm.auto import tqdm\n",
    "from facenet_pytorch import MTCNN, InceptionResnetV1\n",
    "\n",
    "# Initialize MTCNN for face detection\n",
    "mtcnn = MTCNN(keep_all=True)\n",
    "\n",
    "# Load pre-trained FaceNet model\n",
    "resnet = InceptionResnetV1(pretrained='casia-webface').eval()"
   ]
  },
  {
   "cell_type": "code",
   "execution_count": 2,
   "metadata": {},
   "outputs": [],
   "source": [
    "path = os.path.join(\"..\",\"in\",\"newspapers\")"
   ]
  },
  {
   "cell_type": "code",
   "execution_count": 24,
   "metadata": {
    "metadata": {}
   },
   "outputs": [
    {
     "name": "stderr",
     "output_type": "stream",
     "text": [
      "100%|██████████| 200/200 [06:57<00:00,  2.09s/it]"
     ]
    },
    {
     "name": "stdout",
     "output_type": "stream",
     "text": [
      "[['JDG-1826-02-16-a-p0001.jpg', None], ['JDG-1826-02-16-a-p0002.jpg', None], ['JDG-1826-02-16-a-p0003.jpg', None], ['JDG-1826-02-16-a-p0004.jpg', None], ['JDG-1826-04-20-a-p0001.jpg', None], ['JDG-1826-04-20-a-p0002.jpg', None], ['JDG-1826-04-20-a-p0003.jpg', None], ['JDG-1826-04-20-a-p0004.jpg', None], ['JDG-1826-06-15-a-p0001.jpg', None], ['JDG-1826-06-15-a-p0002.jpg', None], ['JDG-1826-06-15-a-p0003.jpg', None], ['JDG-1826-06-15-a-p0004.jpg', None], ['JDG-1829-03-26-a-p0001.jpg', None], ['JDG-1829-03-26-a-p0002.jpg', None], ['JDG-1829-03-26-a-p0003.jpg', None], ['JDG-1829-03-26-a-p0004.jpg', None], ['JDG-1829-04-16-a-p0001.jpg', None], ['JDG-1829-04-16-a-p0002.jpg', None], ['JDG-1829-04-16-a-p0003.jpg', None], ['JDG-1829-04-16-a-p0004.jpg', None], ['JDG-1829-07-23-a-p0001.jpg', None], ['JDG-1829-07-23-a-p0002.jpg', None], ['JDG-1829-07-23-a-p0003.jpg', None], ['JDG-1829-07-23-a-p0004.jpg', None], ['JDG-1829-07-23-a-p0005.jpg', None], ['JDG-1829-07-23-a-p0006.jpg', None], ['JDG-1831-03-17-a-p0001.jpg', None], ['JDG-1831-03-17-a-p0002.jpg', None], ['JDG-1831-03-17-a-p0003.jpg', None], ['JDG-1831-03-17-a-p0004.jpg', None], ['JDG-1831-07-21-a-p0001.jpg', None], ['JDG-1831-07-21-a-p0002.jpg', None], ['JDG-1831-07-21-a-p0003.jpg', None], ['JDG-1831-07-21-a-p0004.jpg', None], ['JDG-1831-07-21-a-p0005.jpg', None], ['JDG-1831-07-21-a-p0006.jpg', None], ['JDG-1831-12-01-a-p0001.jpg', None], ['JDG-1831-12-01-a-p0002.jpg', None], ['JDG-1831-12-01-a-p0003.jpg', None], ['JDG-1831-12-01-a-p0004.jpg', None], ['JDG-1834-01-28-a-p0001.jpg', None], ['JDG-1834-01-28-a-p0002.jpg', None], ['JDG-1834-01-28-a-p0003.jpg', None], ['JDG-1834-01-28-a-p0004.jpg', None], ['JDG-1834-01-28-a-p0005.jpg', None], ['JDG-1834-01-28-a-p0006.jpg', None], ['JDG-1834-01-28-a-p0007.jpg', None], ['JDG-1834-01-28-a-p0008.jpg', None], ['JDG-1834-01-28-a-p0009.jpg', None], ['JDG-1834-01-28-a-p0010.jpg', None], ['JDG-1834-02-08-a-p0001.jpg', None], ['JDG-1834-02-08-a-p0002.jpg', None], ['JDG-1834-02-08-a-p0003.jpg', None], ['JDG-1834-02-08-a-p0004.jpg', None], ['JDG-1834-02-08-a-p0005.jpg', None], ['JDG-1834-02-08-a-p0006.jpg', array([[691.4624633789062, 1662.052001953125, 708.6900634765625,\n",
      "        1683.7803955078125]], dtype=object)], ['JDG-1834-06-14-a-p0001.jpg', None], ['JDG-1834-06-14-a-p0002.jpg', None], ['JDG-1834-06-14-a-p0003.jpg', None], ['JDG-1834-06-14-a-p0004.jpg', None], ['JDG-1834-06-14-a-p0005.jpg', None], ['JDG-1834-06-14-a-p0006.jpg', None], ['JDG-1834-06-14-a-p0007.jpg', None], ['JDG-1834-06-14-a-p0008.jpg', None], ['JDG-1836-05-12-a-p0001.jpg', None], ['JDG-1836-05-12-a-p0002.jpg', None], ['JDG-1836-05-12-a-p0003.jpg', None], ['JDG-1836-05-12-a-p0004.jpg', None], ['JDG-1836-05-12-a-p0005.jpg', None], ['JDG-1836-05-12-a-p0006.jpg', None], ['JDG-1836-06-04-a-p0001.jpg', None], ['JDG-1836-06-04-a-p0002.jpg', None], ['JDG-1836-06-04-a-p0003.jpg', None], ['JDG-1836-06-04-a-p0004.jpg', None], ['JDG-1836-07-23-a-p0001.jpg', None], ['JDG-1836-07-23-a-p0002.jpg', None], ['JDG-1836-07-23-a-p0003.jpg', None], ['JDG-1836-07-23-a-p0004.jpg', None], ['JDG-1836-07-23-a-p0005.jpg', None], ['JDG-1836-07-23-a-p0006.jpg', None], ['JDG-1840-01-21-a-p0001.jpg', None], ['JDG-1840-01-21-a-p0002.jpg', None], ['JDG-1840-01-21-a-p0003.jpg', None], ['JDG-1840-01-21-a-p0004.jpg', None], ['JDG-1840-03-10-a-p0001.jpg', None], ['JDG-1840-03-10-a-p0002.jpg', None], ['JDG-1840-03-10-a-p0003.jpg', None], ['JDG-1840-03-10-a-p0004.jpg', None], ['JDG-1840-08-25-a-p0001.jpg', None], ['JDG-1840-08-25-a-p0002.jpg', None], ['JDG-1840-08-25-a-p0003.jpg', None], ['JDG-1840-08-25-a-p0004.jpg', None], ['JDG-1842-04-12-a-p0001.jpg', None], ['JDG-1842-04-12-a-p0002.jpg', None], ['JDG-1842-04-12-a-p0003.jpg', None], ['JDG-1842-04-12-a-p0004.jpg', None], ['JDG-1842-06-25-a-p0001.jpg', None], ['JDG-1842-06-25-a-p0002.jpg', None], ['JDG-1842-06-25-a-p0003.jpg', None], ['JDG-1842-06-25-a-p0004.jpg', None], ['JDG-1842-09-27-a-p0001.jpg', None], ['JDG-1842-09-27-a-p0002.jpg', None], ['JDG-1842-09-27-a-p0003.jpg', None], ['JDG-1842-09-27-a-p0004.jpg', None], ['JDG-1845-01-14-a-p0001.jpg', None], ['JDG-1845-01-14-a-p0002.jpg', None], ['JDG-1845-01-14-a-p0003.jpg', None], ['JDG-1845-01-14-a-p0004.jpg', None], ['JDG-1845-03-18-a-p0001.jpg', None], ['JDG-1845-03-18-a-p0002.jpg', None], ['JDG-1845-03-18-a-p0003.jpg', None], ['JDG-1845-03-18-a-p0004.jpg', None], ['JDG-1845-10-03-a-p0001.jpg', None], ['JDG-1845-10-03-a-p0002.jpg', None], ['JDG-1845-10-03-a-p0003.jpg', None], ['JDG-1845-10-03-a-p0004.jpg', array([[925.5662231445312, 1736.28955078125, 982.5863037109375,\n",
      "        1803.66845703125]], dtype=object)], ['JDG-1847-05-25-a-p0001.jpg', None], ['JDG-1847-05-25-a-p0002.jpg', None], ['JDG-1847-05-25-a-p0003.jpg', None], ['JDG-1847-05-25-a-p0004.jpg', None], ['JDG-1847-09-17-a-p0001.jpg', None], ['JDG-1847-09-17-a-p0002.jpg', None], ['JDG-1847-09-17-a-p0003.jpg', None], ['JDG-1847-09-17-a-p0004.jpg', None], ['JDG-1847-10-19-a-p0001.jpg', None], ['JDG-1847-10-19-a-p0002.jpg', None], ['JDG-1847-10-19-a-p0003.jpg', None], ['JDG-1847-10-19-a-p0004.jpg', None], ['JDG-1847-10-19-a-p0005.jpg', None], ['JDG-1847-10-19-a-p0006.jpg', None], ['JDG-1850-04-12-a-p0001.jpg', None], ['JDG-1850-04-12-a-p0002.jpg', None], ['JDG-1850-04-12-a-p0003.jpg', None], ['JDG-1850-04-12-a-p0004.jpg', None], ['JDG-1850-04-30-a-p0001.jpg', None], ['JDG-1850-04-30-a-p0002.jpg', None], ['JDG-1850-04-30-a-p0003.jpg', None], ['JDG-1850-04-30-a-p0004.jpg', None], ['JDG-1850-08-02-a-p0001.jpg', None], ['JDG-1850-08-02-a-p0002.jpg', None], ['JDG-1850-08-02-a-p0003.jpg', None], ['JDG-1850-08-02-a-p0004.jpg', None], ['JDG-1852-01-23-a-p0001.jpg', None], ['JDG-1852-01-23-a-p0002.jpg', None], ['JDG-1852-01-23-a-p0003.jpg', None], ['JDG-1852-01-23-a-p0004.jpg', None], ['JDG-1852-04-13-a-p0001.jpg', None], ['JDG-1852-04-13-a-p0002.jpg', None], ['JDG-1852-04-13-a-p0003.jpg', None], ['JDG-1852-04-13-a-p0004.jpg', None], ['JDG-1852-11-26-a-p0001.jpg', array([[97.3375015258789, 1756.013916015625, 117.07707977294922,\n",
      "        1782.6708984375]], dtype=object)], ['JDG-1852-11-26-a-p0002.jpg', None], ['JDG-1852-11-26-a-p0003.jpg', None], ['JDG-1852-11-26-a-p0004.jpg', None], ['JDG-1855-06-05-a-p0001.jpg', None], ['JDG-1855-06-05-a-p0002.jpg', None], ['JDG-1855-06-05-a-p0003.jpg', None], ['JDG-1855-06-05-a-p0004.jpg', None], ['JDG-1855-07-14-a-p0001.jpg', None], ['JDG-1855-07-14-a-p0002.jpg', None], ['JDG-1855-07-14-a-p0003.jpg', None], ['JDG-1855-07-14-a-p0004.jpg', None], ['JDG-1855-09-06-a-p0001.jpg', None], ['JDG-1855-09-06-a-p0002.jpg', None], ['JDG-1855-09-06-a-p0003.jpg', None], ['JDG-1855-09-06-a-p0004.jpg', None], ['JDG-1857-05-17-a-p0001.jpg', None], ['JDG-1857-05-17-a-p0002.jpg', None], ['JDG-1857-05-17-a-p0003.jpg', None], ['JDG-1857-05-17-a-p0004.jpg', None], ['JDG-1857-06-17-a-p0001.jpg', None], ['JDG-1857-06-17-a-p0002.jpg', None], ['JDG-1857-06-17-a-p0003.jpg', None], ['JDG-1857-06-17-a-p0004.jpg', None], ['JDG-1857-07-28-a-p0001.jpg', None], ['JDG-1857-07-28-a-p0002.jpg', None], ['JDG-1857-07-28-a-p0003.jpg', None], ['JDG-1857-07-28-a-p0004.jpg', array([[350.90081787109375, 1569.5076904296875, 370.7733459472656,\n",
      "        1592.5078125]], dtype=object)], ['JDG-1860-10-02-a-p0001.jpg', None], ['JDG-1860-10-02-a-p0002.jpg', None], ['JDG-1860-10-02-a-p0003.jpg', None], ['JDG-1860-10-02-a-p0004.jpg', None], ['JDG-1860-10-08-a-p0001.jpg', None], ['JDG-1860-10-08-a-p0002.jpg', None], ['JDG-1860-12-01-a-p0001.jpg', None], ['JDG-1860-12-01-a-p0002.jpg', None], ['JDG-1860-12-01-a-p0003.jpg', None], ['JDG-1860-12-01-a-p0004.jpg', array([[502.56927490234375, 312.425537109375, 520.1424560546875,\n",
      "        332.98138427734375],\n",
      "       [704.1563720703125, 1502.1510009765625, 717.8381958007812,\n",
      "        1519.0543212890625]], dtype=object)], ['JDG-1862-06-07-a-p0001.jpg', None], ['JDG-1862-06-07-a-p0002.jpg', None], ['JDG-1862-06-07-a-p0003.jpg', None], ['JDG-1862-06-07-a-p0004.jpg', None], ['JDG-1862-06-26-a-p0001.jpg', None], ['JDG-1862-06-26-a-p0002.jpg', None], ['JDG-1862-06-26-a-p0003.jpg', None], ['JDG-1862-06-26-a-p0004.jpg', None], ['JDG-1862-10-18-a-p0001.jpg', None], ['JDG-1862-10-18-a-p0002.jpg', None], ['JDG-1862-10-18-a-p0003.jpg', None], ['JDG-1862-10-18-a-p0004.jpg', array([[457.14447021484375, 380.71453857421875, 487.1405029296875,\n",
      "        416.55145263671875]], dtype=object)]]\n"
     ]
    },
    {
     "name": "stderr",
     "output_type": "stream",
     "text": [
      "\n"
     ]
    }
   ],
   "source": [
    "results = []\n",
    "for newspaper in os.listdir(path)[:1]:\n",
    "\n",
    "    paper_path = sorted(os.listdir(os.path.join(path, newspaper)))\n",
    "\n",
    "    for page in tqdm(paper_path[:200], position=0, leave=True):\n",
    "        try:\n",
    "            img = Image.open(os.path.join(path, newspaper, page))\n",
    "        except OSError as image:\n",
    "            print(f\"Error processing image: {image}\")\n",
    "\n",
    "        boxes, _ = mtcnn.detect(img)\n",
    "        results.append([page, boxes])\n",
    "\n",
    "print(results)"
   ]
  },
  {
   "cell_type": "code",
   "execution_count": 25,
   "metadata": {},
   "outputs": [],
   "source": [
    "results_ = results.copy()"
   ]
  },
  {
   "cell_type": "code",
   "execution_count": 26,
   "metadata": {
    "metadata": {}
   },
   "outputs": [
    {
     "name": "stdout",
     "output_type": "stream",
     "text": [
      "Faces detected: 7\n",
      "Pages with faces: 6\n"
     ]
    }
   ],
   "source": [
    "# count pages w/ faces and sum of all faces\n",
    "\n",
    "sum_of_faces = 0\n",
    "face_page_sum = 0\n",
    "\n",
    "for obj in results_:\n",
    "    if obj[1] is None:\n",
    "        obj[1] = 0\n",
    "    else:\n",
    "        sum_of_faces += len(obj[1])\n",
    "        face_page_sum += 1\n",
    "        obj[1] = len(obj[1])\n",
    "\n",
    "print(f'Faces detected: {sum_of_faces}')\n",
    "print(f'Pages with faces: {face_page_sum}')"
   ]
  },
  {
   "cell_type": "code",
   "execution_count": 27,
   "metadata": {},
   "outputs": [],
   "source": [
    "df = pd.DataFrame(results_, columns=['Pages', 'Faces freq.'])"
   ]
  },
  {
   "cell_type": "code",
   "execution_count": 28,
   "metadata": {},
   "outputs": [],
   "source": [
    "# extract year from file name, calculate decade \n",
    "\n",
    "df['Year'] = df['Pages'].str.extract(r'-(\\d{4})-').astype(int)\n",
    "\n",
    "df['Decade'] = (df['Year'] // 10) * 10\n",
    "\n",
    "df_sorted = df.sort_values('Decade')\n",
    "\n",
    "grouped_df = df.groupby('Decade').agg({\n",
    "    'Faces freq.':'sum',\n",
    "    'Pages': 'count'\n",
    "}).reset_index()\n",
    "\n",
    "grouped_df['% of pages'] = (grouped_df['Faces freq.'] / grouped_df['Pages']) * 100\n",
    "grouped_df['% of pages'] = grouped_df['% of pages'].round(2)\n",
    "grouped_df\n",
    "\n",
    "grouped_df.to_csv(os.path.join(\"..\",\"out\",\"data.csv\"))"
   ]
  },
  {
   "cell_type": "code",
   "execution_count": 29,
   "metadata": {},
   "outputs": [
    {
     "data": {
      "image/png": "[encoded data removed]",
      "text/plain": [
       "<Figure size 640x480 with 1 Axes>"
      ]
     },
     "metadata": {},
     "output_type": "display_data"
    }
   ],
   "source": [
    "# create a line plot of the 'Pages' column\n",
    "plt.plot(grouped_df['Decade'], grouped_df['% of pages'])\n",
    "\n",
    "plt.xticks(grouped_df['Decade'], grouped_df['Decade'])\n",
    "\n",
    "# add title and labels\n",
    "plt.title('')\n",
    "plt.xlabel('Decade')\n",
    "plt.ylabel('% of pages')\n",
    "\n",
    "# show the plot\n",
    "plt.savefig(os.path.join(\"..\", \"out\",\"plot.png\"))\n",
    "plt.show()"
   ]
  }
 ],
 "metadata": {
  "kernelspec": {
   "display_name": ".venv",
   "language": "python",
   "name": "python3"
  },
  "language_info": {
   "codemirror_mode": {
    "name": "ipython",
    "version": 3
   },
   "file_extension": ".py",
   "mimetype": "text/x-python",
   "name": "python",
   "nbconvert_exporter": "python",
   "pygments_lexer": "ipython3",
   "version": "3.10.12"
  }
 },
 "nbformat": 4,
 "nbformat_minor": 2
}
