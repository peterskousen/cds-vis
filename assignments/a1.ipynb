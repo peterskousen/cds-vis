{
 "cells": [
  {
   "cell_type": "code",
   "execution_count": null,
   "metadata": {},
   "outputs": [],
   "source": [
    "import os\n",
    "import sys\n",
    "sys.path.append(os.path.join(\"..\"))\n",
    "import cv2\n",
    "import numpy as np\n",
    "from utils.imutils import jimshow as show\n",
    "from utils.imutils import jimshow_channel as show_channel\n",
    "import matplotlib.pyplot as plt"
   ]
  },
  {
   "cell_type": "code",
   "execution_count": null,
   "metadata": {},
   "outputs": [],
   "source": [
    "folder_path = os.path.join(\"..\", \"..\", \"cds-vis-data\", \"flowers\")\n",
    "\n",
    "file_name = \"image_0111.jpg\"\n",
    "\n",
    "image = cv2.imread(os.path.join(folder_path, file_name))\n",
    "hist = cv2.calcHist([image], [0], None, [255], [0,256])"
   ]
  },
  {
   "cell_type": "code",
   "execution_count": null,
   "metadata": {},
   "outputs": [],
   "source": [
    "channels = cv2.split(image)\n",
    "colors = (\"blue\", \"green\", \"red\")\n",
    "plt.figure()\n",
    "plt.title(\"Color histograms\")\n",
    "plt.xlabel(\"pixel value\")\n",
    "plt.ylabel(\"# of pixels\")\n",
    "\n",
    "i = 0\n",
    "for channel in channels:\n",
    "    hist = cv2.calcHist([channel], [0], None, [255], [0,256])\n",
    "    plt.plot(hist, color=colors[i])\n",
    "    i += 1\n",
    "plt.show()"
   ]
  },
  {
   "cell_type": "code",
   "execution_count": null,
   "metadata": {},
   "outputs": [],
   "source": [
    "for images in folder_path:\n",
    "    if images != file_name:\n",
    "        file_path = os.path.join(folder_path, images)\n",
    "        print(file_path)\n"
   ]
  }
 ],
 "metadata": {
  "kernelspec": {
   "display_name": "Python 3",
   "language": "python",
   "name": "python3"
  },
  "language_info": {
   "codemirror_mode": {
    "name": "ipython",
    "version": 3
   },
   "file_extension": ".py",
   "mimetype": "text/x-python",
   "name": "python",
   "nbconvert_exporter": "python",
   "pygments_lexer": "ipython3",
   "version": "3.10.12"
  }
 },
 "nbformat": 4,
 "nbformat_minor": 2
}
