{
 "cells": [
  {
   "cell_type": "code",
   "execution_count": 55,
   "metadata": {},
   "outputs": [],
   "source": [
    "import os\n",
    "import sys\n",
    "sys.path.append(os.path.join(\"..\"))\n",
    "import cv2\n",
    "import re\n",
    "import numpy as np\n",
    "import pandas as pd\n",
    "from utils.imutils import jimshow as show\n",
    "from utils.imutils import jimshow_channel as show_channel\n",
    "import matplotlib.pyplot as plt"
   ]
  },
  {
   "cell_type": "code",
   "execution_count": 56,
   "metadata": {},
   "outputs": [],
   "source": [
    "folder_path = os.path.join(\"data\",\"flowers\")\n",
    "images = os.listdir(folder_path)\n",
    "image_to_exclude = \"image_0111.jpg\""
   ]
  },
  {
   "cell_type": "code",
   "execution_count": 63,
   "metadata": {},
   "outputs": [],
   "source": [
    "def comp_hist():\n",
    "    comp_img1 = cv2.imread(os.path.join(folder_path, image_to_exclude))\n",
    "    comp_img2 = input_image\n",
    "\n",
    "    hist_1 = cv2.calcHist([comp_img1], [0,1,2], None, [256,256,256], [0,256, 0,256, 0,256])\n",
    "    hist_2 = cv2.calcHist([comp_img2], [0,1,2], None, [256,256,256], [0,256, 0,256, 0,256])\n",
    "\n",
    "    normalized_hist_1 = cv2.normalize(hist_1, hist_1, 0, 1.0, cv2.NORM_MINMAX)\n",
    "    normalized_hist_2 = cv2.normalize(hist_2, hist_2, 0, 1.0, cv2.NORM_MINMAX)\n",
    "\n",
    "    new_dist = round(cv2.compareHist(normalized_hist_1, normalized_hist_2, cv2.HISTCMP_CHISQR), 2)\n",
    "    dist.append((image, new_dist))"
   ]
  },
  {
   "cell_type": "code",
   "execution_count": 70,
   "metadata": {},
   "outputs": [
    {
     "name": "stdout",
     "output_type": "stream",
     "text": [
      "         Filename  Distance\n",
      "0  image_1303.jpg      2.47\n",
      "1  image_0248.jpg      2.47\n",
      "2  image_0247.jpg      2.47\n",
      "3  image_0791.jpg      2.56\n",
      "4  image_0393.jpg      2.67\n",
      "5  image_1044.jpg      3.03\n"
     ]
    }
   ],
   "source": [
    "def create_col_histogram(input):\n",
    "    channels = cv2.split(input)\n",
    "    colors = (\"blue\", \"green\", \"red\")\n",
    "    fig = plt.figure()\n",
    "    plt.title(f'{image}')\n",
    "    plt.xlabel(\"pixel value\")\n",
    "    plt.ylabel(\"# of pixels\")\n",
    "    i = 0\n",
    "    for channel in channels:\n",
    "        hist = cv2.calcHist([channel], [0], None, [255], [0,256])\n",
    "        plt.plot(hist, color=colors[i])\n",
    "        i += 1\n",
    "    # plt.savefig(f'output/{image.replace(\".jpg\", \"_histogram.png\")}')\n",
    "    # don't open plot after generation - only in ipynb\n",
    "    plt.close(fig)\n",
    "dist = []\n",
    "for image in images[:10]:\n",
    "    if image != image_to_exclude:\n",
    "        input_image = cv2.imread(os.path.join(folder_path, image))\n",
    "    create_col_histogram(input_image)\n",
    "    comp_hist()\n",
    "dist.sort(key=lambda dist: dist[1])\n",
    "dist = dist[:5]\n",
    "df = pd.DataFrame(dist, columns=[\"Filename\", \"Distance\"])\n",
    "print(df)"
   ]
  },
  {
   "cell_type": "code",
   "execution_count": null,
   "metadata": {},
   "outputs": [],
   "source": []
  }
 ],
 "metadata": {
  "kernelspec": {
   "display_name": "Python 3",
   "language": "python",
   "name": "python3"
  },
  "language_info": {
   "codemirror_mode": {
    "name": "ipython",
    "version": 3
   },
   "file_extension": ".py",
   "mimetype": "text/x-python",
   "name": "python",
   "nbconvert_exporter": "python",
   "pygments_lexer": "ipython3",
   "version": "3.10.12"
  }
 },
 "nbformat": 4,
 "nbformat_minor": 2
}
