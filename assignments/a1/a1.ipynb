{
 "cells": [
  {
   "cell_type": "code",
   "execution_count": 9,
   "metadata": {},
   "outputs": [],
   "source": [
    "import os\n",
    "import sys\n",
    "sys.path.append(os.path.join(\"..\"))\n",
    "import cv2\n",
    "import re\n",
    "import numpy as np\n",
    "from utils.imutils import jimshow as show\n",
    "from utils.imutils import jimshow_channel as show_channel\n",
    "import matplotlib.pyplot as plt"
   ]
  },
  {
   "cell_type": "code",
   "execution_count": 10,
   "metadata": {},
   "outputs": [],
   "source": [
    "folder_path = os.path.join(\"data\",\"flowers\")\n",
    "images = os.listdir(folder_path)\n",
    "image_to_exclude = \"image_0111.jpg\""
   ]
  },
  {
   "cell_type": "code",
   "execution_count": null,
   "metadata": {},
   "outputs": [],
   "source": [
    "def create_col_histogram(input):\n",
    "    channels = cv2.split(input)\n",
    "    colors = (\"blue\", \"green\", \"red\")\n",
    "    fig = plt.figure()\n",
    "    plt.title(f'{image}')\n",
    "    plt.xlabel(\"pixel value\")\n",
    "    plt.ylabel(\"# of pixels\")\n",
    "    i = 0\n",
    "    for channel in channels:\n",
    "        hist = cv2.calcHist([channel], [0], None, [255], [0,256])\n",
    "        plt.plot(hist, color=colors[i])\n",
    "        i += 1\n",
    "    plt.savefig(f'output/{image.replace(\"jpg\", \"\")}_histogram.png')\n",
    "    # don't open plot after generation - only in ipynb\n",
    "    plt.close(fig)\n",
    "\n",
    "for image in images:\n",
    "    if image != image_to_exclude:\n",
    "        input_image = cv2.imread(os.path.join(folder_path, image))\n",
    "    create_col_histogram(input_image)\n"
   ]
  }
 ],
 "metadata": {
  "kernelspec": {
   "display_name": "Python 3",
   "language": "python",
   "name": "python3"
  },
  "language_info": {
   "codemirror_mode": {
    "name": "ipython",
    "version": 3
   },
   "file_extension": ".py",
   "mimetype": "text/x-python",
   "name": "python",
   "nbconvert_exporter": "python",
   "pygments_lexer": "ipython3",
   "version": "3.10.12"
  }
 },
 "nbformat": 4,
 "nbformat_minor": 2
}
