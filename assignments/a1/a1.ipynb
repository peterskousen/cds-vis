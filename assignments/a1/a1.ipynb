{
 "cells": [
  {
   "cell_type": "code",
   "execution_count": 20,
   "metadata": {},
   "outputs": [],
   "source": [
    "import os\n",
    "import sys\n",
    "sys.path.append(os.path.join(\"..\"))\n",
    "import cv2\n",
    "import numpy as np\n",
    "from utils.imutils import jimshow as show\n",
    "from utils.imutils import jimshow_channel as show_channel\n",
    "import matplotlib.pyplot as plt"
   ]
  },
  {
   "cell_type": "code",
   "execution_count": 25,
   "metadata": {},
   "outputs": [],
   "source": [
    "folder_path = os.path.join(\"data\",\"flowers\")\n",
    "file_name = \"image_0111.jpg\"\n",
    "working_image = cv2.imread(os.path.join(folder_path, file_name))"
   ]
  },
  {
   "cell_type": "code",
   "execution_count": 30,
   "metadata": {},
   "outputs": [
    {
     "ename": "error",
     "evalue": "OpenCV(4.9.0) :-1: error: (-5:Bad argument) in function 'split'\n> Overload resolution failed:\n>  - m is not a numpy array, neither a scalar\n>  - Expected Ptr<cv::UMat> for argument 'm'\n",
     "output_type": "error",
     "traceback": [
      "\u001b[0;31m---------------------------------------------------------------------------\u001b[0m",
      "\u001b[0;31merror\u001b[0m                                     Traceback (most recent call last)",
      "\u001b[1;32m/work/cds-vis/assignments/a1/a1.ipynb Cell 3\u001b[0m line \u001b[0;36m1\n\u001b[1;32m     <a href='vscode-notebook-cell://app-5022952-0.cloud.sdu.dk/work/cds-vis/assignments/a1/a1.ipynb#W2sdnNjb2RlLXJlbW90ZQ%3D%3D?line=12'>13</a>\u001b[0m         i \u001b[39m+\u001b[39m\u001b[39m=\u001b[39m \u001b[39m1\u001b[39m\n\u001b[1;32m     <a href='vscode-notebook-cell://app-5022952-0.cloud.sdu.dk/work/cds-vis/assignments/a1/a1.ipynb#W2sdnNjb2RlLXJlbW90ZQ%3D%3D?line=13'>14</a>\u001b[0m     plt\u001b[39m.\u001b[39mshow()\n\u001b[0;32m---> <a href='vscode-notebook-cell://app-5022952-0.cloud.sdu.dk/work/cds-vis/assignments/a1/a1.ipynb#W2sdnNjb2RlLXJlbW90ZQ%3D%3D?line=15'>16</a>\u001b[0m col_histogram(\u001b[39minput\u001b[39;49m)\n",
      "\u001b[1;32m/work/cds-vis/assignments/a1/a1.ipynb Cell 3\u001b[0m line \u001b[0;36m2\n\u001b[1;32m      <a href='vscode-notebook-cell://app-5022952-0.cloud.sdu.dk/work/cds-vis/assignments/a1/a1.ipynb#W2sdnNjb2RlLXJlbW90ZQ%3D%3D?line=0'>1</a>\u001b[0m \u001b[39mdef\u001b[39;00m \u001b[39mcol_histogram\u001b[39m(\u001b[39minput\u001b[39m):\n\u001b[0;32m----> <a href='vscode-notebook-cell://app-5022952-0.cloud.sdu.dk/work/cds-vis/assignments/a1/a1.ipynb#W2sdnNjb2RlLXJlbW90ZQ%3D%3D?line=1'>2</a>\u001b[0m     channels \u001b[39m=\u001b[39m cv2\u001b[39m.\u001b[39;49msplit(\u001b[39minput\u001b[39;49m)\n\u001b[1;32m      <a href='vscode-notebook-cell://app-5022952-0.cloud.sdu.dk/work/cds-vis/assignments/a1/a1.ipynb#W2sdnNjb2RlLXJlbW90ZQ%3D%3D?line=2'>3</a>\u001b[0m     colors \u001b[39m=\u001b[39m (\u001b[39m\"\u001b[39m\u001b[39mblue\u001b[39m\u001b[39m\"\u001b[39m, \u001b[39m\"\u001b[39m\u001b[39mgreen\u001b[39m\u001b[39m\"\u001b[39m, \u001b[39m\"\u001b[39m\u001b[39mred\u001b[39m\u001b[39m\"\u001b[39m)\n\u001b[1;32m      <a href='vscode-notebook-cell://app-5022952-0.cloud.sdu.dk/work/cds-vis/assignments/a1/a1.ipynb#W2sdnNjb2RlLXJlbW90ZQ%3D%3D?line=3'>4</a>\u001b[0m     plt\u001b[39m.\u001b[39mfigure()\n",
      "\u001b[0;31merror\u001b[0m: OpenCV(4.9.0) :-1: error: (-5:Bad argument) in function 'split'\n> Overload resolution failed:\n>  - m is not a numpy array, neither a scalar\n>  - Expected Ptr<cv::UMat> for argument 'm'\n"
     ]
    }
   ],
   "source": [
    "def col_histogram(input):\n",
    "    channels = cv2.split(input)\n",
    "    colors = (\"blue\", \"green\", \"red\")\n",
    "    plt.figure()\n",
    "    plt.title(\"Color histograms\")\n",
    "    plt.xlabel(\"pixel value\")\n",
    "    plt.ylabel(\"# of pixels\")\n",
    "\n",
    "    i = 0\n",
    "    for channel in channels:\n",
    "        hist = cv2.calcHist([channel], [0], None, [255], [0,256])\n",
    "        plt.plot(hist, color=colors[i])\n",
    "        i += 1\n",
    "    plt.show()\n",
    "\n",
    "col_histogram(input)"
   ]
  },
  {
   "cell_type": "code",
   "execution_count": 29,
   "metadata": {},
   "outputs": [
    {
     "ename": "error",
     "evalue": "OpenCV(4.9.0) :-1: error: (-5:Bad argument) in function 'split'\n> Overload resolution failed:\n>  - m is not a numpy array, neither a scalar\n>  - Expected Ptr<cv::UMat> for argument 'm'\n",
     "output_type": "error",
     "traceback": [
      "\u001b[0;31m---------------------------------------------------------------------------\u001b[0m",
      "\u001b[0;31merror\u001b[0m                                     Traceback (most recent call last)",
      "\u001b[1;32m/work/cds-vis/assignments/a1/a1.ipynb Cell 4\u001b[0m line \u001b[0;36m4\n\u001b[1;32m      <a href='vscode-notebook-cell://app-5022952-0.cloud.sdu.dk/work/cds-vis/assignments/a1/a1.ipynb#W3sdnNjb2RlLXJlbW90ZQ%3D%3D?line=1'>2</a>\u001b[0m \u001b[39mif\u001b[39;00m images \u001b[39m!=\u001b[39m file_name:\n\u001b[1;32m      <a href='vscode-notebook-cell://app-5022952-0.cloud.sdu.dk/work/cds-vis/assignments/a1/a1.ipynb#W3sdnNjb2RlLXJlbW90ZQ%3D%3D?line=2'>3</a>\u001b[0m     file_path \u001b[39m=\u001b[39m os\u001b[39m.\u001b[39mpath\u001b[39m.\u001b[39mjoin(folder_path, images)\n\u001b[0;32m----> <a href='vscode-notebook-cell://app-5022952-0.cloud.sdu.dk/work/cds-vis/assignments/a1/a1.ipynb#W3sdnNjb2RlLXJlbW90ZQ%3D%3D?line=3'>4</a>\u001b[0m     col_histogram(file_path)\n",
      "\u001b[1;32m/work/cds-vis/assignments/a1/a1.ipynb Cell 4\u001b[0m line \u001b[0;36m2\n\u001b[1;32m      <a href='vscode-notebook-cell://app-5022952-0.cloud.sdu.dk/work/cds-vis/assignments/a1/a1.ipynb#W3sdnNjb2RlLXJlbW90ZQ%3D%3D?line=0'>1</a>\u001b[0m \u001b[39mdef\u001b[39;00m \u001b[39mcol_histogram\u001b[39m(\u001b[39minput\u001b[39m):\n\u001b[0;32m----> <a href='vscode-notebook-cell://app-5022952-0.cloud.sdu.dk/work/cds-vis/assignments/a1/a1.ipynb#W3sdnNjb2RlLXJlbW90ZQ%3D%3D?line=1'>2</a>\u001b[0m     channels \u001b[39m=\u001b[39m cv2\u001b[39m.\u001b[39;49msplit(\u001b[39minput\u001b[39;49m)\n\u001b[1;32m      <a href='vscode-notebook-cell://app-5022952-0.cloud.sdu.dk/work/cds-vis/assignments/a1/a1.ipynb#W3sdnNjb2RlLXJlbW90ZQ%3D%3D?line=2'>3</a>\u001b[0m     colors \u001b[39m=\u001b[39m (\u001b[39m\"\u001b[39m\u001b[39mblue\u001b[39m\u001b[39m\"\u001b[39m, \u001b[39m\"\u001b[39m\u001b[39mgreen\u001b[39m\u001b[39m\"\u001b[39m, \u001b[39m\"\u001b[39m\u001b[39mred\u001b[39m\u001b[39m\"\u001b[39m)\n\u001b[1;32m      <a href='vscode-notebook-cell://app-5022952-0.cloud.sdu.dk/work/cds-vis/assignments/a1/a1.ipynb#W3sdnNjb2RlLXJlbW90ZQ%3D%3D?line=3'>4</a>\u001b[0m     plt\u001b[39m.\u001b[39mfigure()\n",
      "\u001b[0;31merror\u001b[0m: OpenCV(4.9.0) :-1: error: (-5:Bad argument) in function 'split'\n> Overload resolution failed:\n>  - m is not a numpy array, neither a scalar\n>  - Expected Ptr<cv::UMat> for argument 'm'\n"
     ]
    }
   ],
   "source": [
    "for images in os.listdir(folder_path):\n",
    "    if images != file_name:\n",
    "        file_path = os.path.join(folder_path, images)\n",
    "        col_histogram(file_path)\n"
   ]
  },
  {
   "cell_type": "code",
   "execution_count": null,
   "metadata": {},
   "outputs": [],
   "source": []
  }
 ],
 "metadata": {
  "kernelspec": {
   "display_name": "Python 3",
   "language": "python",
   "name": "python3"
  },
  "language_info": {
   "codemirror_mode": {
    "name": "ipython",
    "version": 3
   },
   "file_extension": ".py",
   "mimetype": "text/x-python",
   "name": "python",
   "nbconvert_exporter": "python",
   "pygments_lexer": "ipython3",
   "version": "3.10.12"
  }
 },
 "nbformat": 4,
 "nbformat_minor": 2
}
